{
  "cells": [
    {
      "cell_type": "code",
      "execution_count": 1,
      "metadata": {
        "id": "KO_HxvFGcQHU"
      },
      "outputs": [],
      "source": [
        "from pyspark.sql import SparkSession\n",
        "from pyspark.sql.functions import *\n",
        "from pyspark.sql.window import *\n",
        "from pyspark.ml.feature import VectorAssembler\n",
        "from pyspark.ml.regression import LinearRegression\n",
        "# Initialize Spark Session\n",
        "spark = SparkSession.builder \\\n",
        "    .appName(\"MTA Turnstile Analysis\") \\\n",
        "    .getOrCreate()\n"
      ]
    },
    {
      "cell_type": "markdown",
      "source": [
        "## Read data from the file"
      ],
      "metadata": {
        "id": "cARHg8P4utu_"
      }
    },
    {
      "cell_type": "code",
      "source": [
        "from google.colab import drive\n",
        "drive.mount('/content/drive')"
      ],
      "metadata": {
        "colab": {
          "base_uri": "https://localhost:8080/"
        },
        "id": "7XM9Tn_EI1Cv",
        "outputId": "c2af95a3-9be1-4a61-baad-dee89564f40c"
      },
      "execution_count": 2,
      "outputs": [
        {
          "output_type": "stream",
          "name": "stdout",
          "text": [
            "Mounted at /content/drive\n"
          ]
        }
      ]
    },
    {
      "cell_type": "code",
      "execution_count": 3,
      "metadata": {
        "colab": {
          "base_uri": "https://localhost:8080/"
        },
        "id": "jtYDGu6Kef3z",
        "outputId": "23a0cd8b-f8bd-4dda-c0b0-fcb9667e61f3"
      },
      "outputs": [
        {
          "output_type": "stream",
          "name": "stdout",
          "text": [
            "root\n",
            " |-- C/A: string (nullable = true)\n",
            " |-- Unit: string (nullable = true)\n",
            " |-- SCP: string (nullable = true)\n",
            " |-- Line Name: string (nullable = true)\n",
            " |-- Division: string (nullable = true)\n",
            " |-- Date: string (nullable = true)\n",
            " |-- Time: timestamp (nullable = true)\n",
            " |-- Description: string (nullable = true)\n",
            " |-- Entries: integer (nullable = true)\n",
            " |-- Exits                                                     : integer (nullable = true)\n",
            "\n"
          ]
        }
      ],
      "source": [
        "file_path = \"/content/drive/MyDrive/MTA_Subway_Turnstile_Usage_Data__2022_20241130 (1).csv\"  # Replace with your dataset path\n",
        "turnstile_data = spark.read.csv(file_path, header=True, inferSchema=True)\n",
        "#turnstile_data.show()\n",
        "# Inspect the schema\n",
        "turnstile_data.printSchema()"
      ]
    },
    {
      "cell_type": "markdown",
      "source": [
        "# Data cleaning"
      ],
      "metadata": {
        "id": "PqGVEhGZu19o"
      }
    },
    {
      "cell_type": "code",
      "execution_count": 4,
      "metadata": {
        "id": "y7ItpT5xxbWj"
      },
      "outputs": [],
      "source": [
        "# Rename columns for readability\n",
        "turnstile_data = turnstile_data.withColumnRenamed(\"C/A\", \"ControlArea\") \\\n",
        "                               .withColumnRenamed(\"UNIT\", \"Unit\") \\\n",
        "                               .withColumnRenamed(\"SCP\", \"SubunitChannelPosition\") \\\n",
        "                               .withColumnRenamed(\"DATE\", \"Date\") \\\n",
        "                               .withColumnRenamed(\"TIME\", \"Time\") \\\n",
        "                               .withColumnRenamed(\"ENTRIES\", \"Entries\") \\\n",
        "                               .withColumnRenamed(\"Exits                                                     \", \"Exits\")\n",
        "\n",
        "# Drop rows with missing values\n",
        "turnstile_data = turnstile_data.dropna()\n",
        "\n",
        "# Convert date to proper format\n",
        "turnstile_data = turnstile_data.withColumn(\"Date\", to_date(col(\"Date\"), \"MM/dd/yyyy\"))\n",
        "\n",
        "# Add a \"Day of Week\" column\n",
        "turnstile_data = turnstile_data.withColumn(\"DayOfWeek\", date_format(col(\"Date\"), \"EEEE\"))\n"
      ]
    },
    {
      "cell_type": "code",
      "execution_count": 5,
      "metadata": {
        "id": "dO3TLriavpEG"
      },
      "outputs": [],
      "source": [
        "turnstile_data = turnstile_data.withColumn(\"Exits\", regexp_replace(turnstile_data[\"Exits\"], \"[^0-9]\", \"\"))\n",
        "\n",
        "turnstile_data = turnstile_data.withColumn(\"Exits\", trim(turnstile_data[\"Exits\"]))\n"
      ]
    },
    {
      "cell_type": "markdown",
      "source": [
        "# Reading station mapper and mapping station column"
      ],
      "metadata": {
        "id": "PiVxlfP7vBJe"
      }
    },
    {
      "cell_type": "code",
      "execution_count": 30,
      "metadata": {
        "colab": {
          "base_uri": "https://localhost:8080/"
        },
        "id": "aRmMPTWw4cPa",
        "outputId": "b38de85b-3fc2-4903-9fea-33569f1091a5"
      },
      "outputs": [
        {
          "output_type": "stream",
          "name": "stdout",
          "text": [
            "+-----------+----+----------------------+---------+--------+----------+-------------------+-----------+-------+-------+---------+-------------+\n",
            "|ControlArea|Unit|SubunitChannelPosition|Line Name|Division|      Date|               Time|Description|Entries|  Exits|DayOfWeek|      station|\n",
            "+-----------+----+----------------------+---------+--------+----------+-------------------+-----------+-------+-------+---------+-------------+\n",
            "|       A002|R051|              02-00-00|  NQR456W|     BMT|2022-12-30|2024-12-12 03:00:00|    REGULAR|7811029|2770909|   Friday|LEXINGTON AVE|\n",
            "|       A002|R051|              02-00-00|  NQR456W|     BMT|2022-12-30|2024-12-12 07:00:00|    REGULAR|7811032|2770930|   Friday|LEXINGTON AVE|\n",
            "|       A002|R051|              02-00-00|  NQR456W|     BMT|2022-12-30|2024-12-12 11:00:00|    REGULAR|7811067|2771080|   Friday|LEXINGTON AVE|\n",
            "|       A002|R051|              02-00-00|  NQR456W|     BMT|2022-12-30|2024-12-12 15:00:00|    REGULAR|7811217|2771126|   Friday|LEXINGTON AVE|\n",
            "|       A002|R051|              02-00-00|  NQR456W|     BMT|2022-12-30|2024-12-12 19:00:00|    REGULAR|7811477|2771174|   Friday|LEXINGTON AVE|\n",
            "+-----------+----+----------------------+---------+--------+----------+-------------------+-----------+-------+-------+---------+-------------+\n",
            "only showing top 5 rows\n",
            "\n"
          ]
        }
      ],
      "source": [
        "# Load station mapping file (assuming it has columns C/A, UNIT, SCP, and Station)\n",
        "station_mapping = spark.read.csv(\"/content/drive/MyDrive/Remote-Booth-Station.csv\", header=True, inferSchema=True)\n",
        "# Rename columns in station_mapping to match turnstile_data\n",
        "station_mapping = station_mapping.withColumnRenamed(\"control_area\", \"ControlArea\") \\\n",
        "                                 .withColumnRenamed(\"unit\", \"Unit\") \\\n",
        "                                 .withColumnRenamed(\"subunit_channel_position\", \"SubunitChannelPosition\")\n",
        "\n",
        "# Join the datasets\n",
        "turnstile_with_stations = turnstile_data.join(\n",
        "    station_mapping,\n",
        "    on=[\"ControlArea\", \"Unit\"],\n",
        "    how=\"left\"\n",
        ")\n",
        "\n",
        "# Show the result\n",
        "turnstile_with_stations.show(5)\n"
      ]
    },
    {
      "cell_type": "markdown",
      "source": [
        "# Data Analysis"
      ],
      "metadata": {
        "id": "FGRsp5oSvMJt"
      }
    },
    {
      "cell_type": "code",
      "execution_count": 7,
      "metadata": {
        "colab": {
          "base_uri": "https://localhost:8080/"
        },
        "id": "gEtjzoIgcZQx",
        "outputId": "5bf17ec6-53c1-4876-f5fc-a20f17865746"
      },
      "outputs": [
        {
          "output_type": "stream",
          "name": "stdout",
          "text": [
            "+---------------+----------+---------+------------+---------------+\n",
            "|        Station|      Date|DayOfWeek|TotalEntries|     TotalExits|\n",
            "+---------------+----------+---------+------------+---------------+\n",
            "|       RALPH AV|2022-12-30|   Friday|    38911121|    2.6332097E7|\n",
            "|       GATES AV|2022-12-30|   Friday|    49471483|    2.1790353E7|\n",
            "| CHRISTOPHER ST|2022-12-30|   Friday|   168729059|    1.3516891E8|\n",
            "|      CHURCH AV|2022-12-30|   Friday|  7354065291|1.0443790722E10|\n",
            "|         157 ST|2022-12-30|   Friday|    57938565|    6.6886564E7|\n",
            "|    CHAMBERS ST|2022-12-30|   Friday| 24055803350|1.5661077357E10|\n",
            "|CLINTON-WASH AV|2022-12-30|   Friday|  1064726325|   4.59714823E8|\n",
            "| HOWARD BCH-JFK|2022-12-30|   Friday|    56325546|      5211851.0|\n",
            "|         138 ST|2022-12-30|   Friday|  6010335943|  5.805227895E9|\n",
            "|     BOYD-88 ST|2022-12-30|   Friday|    41251476|    1.4291085E7|\n",
            "|     182-183 ST|2022-12-30|   Friday|  8948682295|1.1125247436E10|\n",
            "|     TREMONT AV|2022-12-30|   Friday|  3645727115|   1.71358186E9|\n",
            "|   SUTPHIN BLVD|2022-12-30|   Friday|  1149055683|   6.58019376E8|\n",
            "|   EASTERN PKWY|2022-12-30|   Friday|  6866483385|    8.7807822E8|\n",
            "|          75 AV|2022-12-30|   Friday|  2871498487|   5.86422736E9|\n",
            "|MURRAY ST-B'WAY|2022-12-30|   Friday|   826588544|    6.6336045E7|\n",
            "|45 RD-COURT H S|2022-12-30|   Friday|   803744272|   1.01405651E8|\n",
            "|   NOSTRAND AVE|2022-12-30|   Friday|    19047279|    2.0491849E7|\n",
            "|HOLLAND-B 90 ST|2022-12-30|   Friday|    41905369|    4.2996059E7|\n",
            "|   STILLWELL AV|2022-12-30|   Friday|  3893927649|  2.051203027E9|\n",
            "+---------------+----------+---------+------------+---------------+\n",
            "only showing top 20 rows\n",
            "\n"
          ]
        }
      ],
      "source": [
        "# Aggregate data\n",
        "aggregated_data = turnstile_with_stations.groupBy(\"Station\", \"Date\", \"DayOfWeek\") \\\n",
        "    .agg(\n",
        "        sum(\"Entries\").alias(\"TotalEntries\"),\n",
        "        sum(\"Exits\").alias(\"TotalExits\")\n",
        "    )\n",
        "\n",
        "# Sort data for visualization\n",
        "aggregated_data = aggregated_data.orderBy(col(\"Date\").desc())\n",
        "aggregated_data.show()"
      ]
    },
    {
      "cell_type": "markdown",
      "source": [
        "Data Processing"
      ],
      "metadata": {
        "id": "_TIdOmtsvmJH"
      }
    },
    {
      "cell_type": "code",
      "execution_count": 31,
      "metadata": {
        "id": "ff427RjoxIvC"
      },
      "outputs": [],
      "source": [
        "from pyspark.sql.window import Window\n",
        "from pyspark.sql.functions import col, lag, when\n",
        "\n",
        "# Define a window specification\n",
        "window_spec = Window.partitionBy(\"ControlArea\", \"Unit\", \"SubunitChannelPosition\", \"Station\").orderBy(\"Date\",\"Time\")\n",
        "turnstile_with_stations = turnstile_with_stations.withColumn(\"PrevEntries\", lag(\"ENTRIES\").over(window_spec).cast(\"integer\")) \\\n",
        "                                                 .withColumn(\"PrevExits\", lag(\"EXITS\").over(window_spec).cast(\"integer\"))\n",
        "\n",
        "turnstile_with_stations = turnstile_with_stations.withColumn(\"ActualEntries\",\n",
        "    (col(\"ENTRIES\") - col(\"PrevEntries\")).cast(\"integer\")) \\\n",
        "                                                 .withColumn(\"ActualExits\",\n",
        "    (col(\"EXITS\") - col(\"PrevExits\")).cast(\"integer\"))\n",
        "\n",
        "turnstile_with_stations = turnstile_with_stations.withColumn(\"ActualEntries\",\n",
        "    when((col(\"ActualEntries\") >= 0) & (col(\"ActualEntries\") <= 10000), col(\"ActualEntries\")).otherwise(0)) \\\n",
        "                                                 .withColumn(\"ActualExits\",\n",
        "    when((col(\"ActualExits\") >= 0) & (col(\"ActualExits\") <= 10000), col(\"ActualExits\")).otherwise(0))\n",
        "turnstile_with_stations = turnstile_with_stations.dropna(subset=[\"station\"])\n",
        "\n",
        "\n",
        "#turnstile_with_stations.show()"
      ]
    },
    {
      "cell_type": "markdown",
      "source": [
        "Station summary"
      ],
      "metadata": {
        "id": "LuxMGtPLvsbU"
      }
    },
    {
      "cell_type": "code",
      "execution_count": 9,
      "metadata": {
        "colab": {
          "base_uri": "https://localhost:8080/"
        },
        "id": "t6kYPl7czUsA",
        "outputId": "88fc6390-212c-4a84-fd63-80b05852172a"
      },
      "outputs": [
        {
          "output_type": "stream",
          "name": "stdout",
          "text": [
            "+---------------+----------+------------+----------+\n",
            "|Station        |DATE      |TotalEntries|TotalExits|\n",
            "+---------------+----------+------------+----------+\n",
            "|LEXINGTON AVE  |2022-04-15|4321        |4699      |\n",
            "|LEXINGTON AVE  |2022-08-09|4312        |4959      |\n",
            "|5 AV           |2022-01-01|2200        |2399      |\n",
            "|5 AV           |2022-07-07|6301        |7478      |\n",
            "|57 ST-7 AV     |2022-03-13|6243        |8620      |\n",
            "|49 ST-7 AV     |2022-02-24|7917        |12081     |\n",
            "|49 ST-7 AV     |2022-10-30|4881        |7622      |\n",
            "|42 ST - TIMES S|2022-04-17|1945        |6680      |\n",
            "|42 ST - TIMES S|2022-05-12|5233        |12223     |\n",
            "|42 ST - TIMES S|2022-09-13|5411        |14121     |\n",
            "+---------------+----------+------------+----------+\n",
            "only showing top 10 rows\n",
            "\n"
          ]
        },
        {
          "output_type": "execute_result",
          "data": {
            "text/plain": [
              "142027"
            ]
          },
          "metadata": {},
          "execution_count": 9
        }
      ],
      "source": [
        "\n",
        "station_summary = turnstile_with_stations.groupBy(\"Station\", \"DATE\").agg(\n",
        "    sum(\"ActualEntries\").alias(\"TotalEntries\"),\n",
        "    sum(\"ActualExits\").alias(\"TotalExits\")\n",
        ")\n",
        "\n",
        "station_summary.show(10, truncate=False)\n",
        "station_summary.count()"
      ]
    },
    {
      "cell_type": "code",
      "execution_count": 10,
      "metadata": {
        "id": "b9dhm7SJ1q5v"
      },
      "outputs": [],
      "source": [
        "station_summary.coalesce(1).write.csv(\"output_single_file\", header=True, mode='overwrite')\n"
      ]
    },
    {
      "cell_type": "markdown",
      "source": [
        "Analyse monthly trends"
      ],
      "metadata": {
        "id": "blQSODS7vxfM"
      }
    },
    {
      "cell_type": "code",
      "execution_count": 32,
      "metadata": {
        "id": "4cYBe3Gs7gl3"
      },
      "outputs": [],
      "source": [
        "from pyspark.sql.functions import month, year\n",
        "\n",
        "turnstile_with_stations = turnstile_with_stations.withColumn(\"month\", month(\"date\"))\n",
        "turnstile_with_stations = turnstile_with_stations.withColumn(\"year\", year(\"date\"))\n"
      ]
    },
    {
      "cell_type": "code",
      "execution_count": 12,
      "metadata": {
        "id": "0V8VUFmr8ELy"
      },
      "outputs": [],
      "source": [
        "monthly_stats = turnstile_with_stations.groupBy(\"station\", \"year\", \"month\").agg(\n",
        "    sum(\"ActualEntries\").alias(\"TotalEntries\"),\n",
        "    sum(\"ActualExits\").alias(\"TotalExits\")\n",
        ")\n"
      ]
    },
    {
      "cell_type": "code",
      "execution_count": 13,
      "metadata": {
        "id": "HSrA35KI8Udj",
        "colab": {
          "base_uri": "https://localhost:8080/"
        },
        "outputId": "681ab57f-b50b-48f1-9576-746cae7d5c21"
      },
      "outputs": [
        {
          "output_type": "stream",
          "name": "stdout",
          "text": [
            "+---------------+----+-----+------------+----------+\n",
            "|        station|year|month|TotalEntries|TotalExits|\n",
            "+---------------+----+-----+------------+----------+\n",
            "|42 ST - TIMES S|2022|    2|      110015|    253233|\n",
            "| 28 ST-BROADWAY|2022|   12|      109465|    269362|\n",
            "|    23 ST-5 AVE|2022|    3|      196605|    186229|\n",
            "|  8 ST-BROADWAY|2022|    9|      134890|    247843|\n",
            "|     NEWKIRK AV|2022|    7|      173034|    219956|\n",
            "| BRIGHTON BEACH|2022|    2|      122892|    108924|\n",
            "|      DEKALB AV|2022|   12|      274683|    314573|\n",
            "|           8 AV|2022|    4|      368291|    453052|\n",
            "|          71 ST|2022|    3|       76960|     35307|\n",
            "|         121 ST|2022|    7|       34173|     16801|\n",
            "| 59 ST-COLUMBUS|2022|    5|      765662|   1066105|\n",
            "|       AQUEDUCT|2022|    2|       13676|      2387|\n",
            "|  SEASIDE-B 105|2022|   11|        2696|      5346|\n",
            "|   FAR ROCKAWAY|2022|    1|       51820|     78262|\n",
            "|     174-175 ST|2022|    9|       56228|     51651|\n",
            "|          46 ST|2022|    4|       93159|    127908|\n",
            "|  VAN WYCK BLVD|2022|   10|       66489|     36645|\n",
            "|          21 ST|2022|    7|      132297|    171658|\n",
            "|       NEWARK C|2022|    4|       56897|     20707|\n",
            "|       NEWARK C|2022|    8|       62517|     24891|\n",
            "+---------------+----+-----+------------+----------+\n",
            "only showing top 20 rows\n",
            "\n"
          ]
        }
      ],
      "source": [
        "monthly_stats.show()"
      ]
    },
    {
      "cell_type": "code",
      "execution_count": 14,
      "metadata": {
        "id": "Y5iYW71K_5y9"
      },
      "outputs": [],
      "source": [
        "monthly_stats.coalesce(1).write.csv(\"output_monthly_ridership\", header=True, mode=\"overwrite\")\n"
      ]
    },
    {
      "cell_type": "markdown",
      "source": [
        "Analyse daily trends"
      ],
      "metadata": {
        "id": "iHLbaP-SwHpj"
      }
    },
    {
      "cell_type": "code",
      "execution_count": 15,
      "metadata": {
        "id": "FcCongefArPa"
      },
      "outputs": [],
      "source": [
        "daily_stats = turnstile_with_stations.groupBy(\"station\", \"year\", \"month\").agg(\n",
        "    sum(\"ActualEntries\").alias(\"total_entries\"),\n",
        "    sum(\"ActualExits\").alias(\"total_exits\"),\n",
        "    countDistinct(\"date\").alias(\"days_in_month\")\n",
        ")\n",
        "\n",
        "daily_stats = daily_stats.withColumn(\"avg_daily_entries\", round(daily_stats[\"total_entries\"] / daily_stats[\"days_in_month\"]))\n",
        "daily_stats = daily_stats.withColumn(\"avg_daily_exits\", round(daily_stats[\"total_exits\"] / daily_stats[\"days_in_month\"]))"
      ]
    },
    {
      "cell_type": "code",
      "execution_count": 16,
      "metadata": {
        "id": "WWqSLwXBBM39",
        "colab": {
          "base_uri": "https://localhost:8080/"
        },
        "outputId": "7a3d036d-85d4-4ece-ff1d-7480060be173"
      },
      "outputs": [
        {
          "output_type": "stream",
          "name": "stdout",
          "text": [
            "+---------------+----+-----+-------------+-----------+-------------+-----------------+---------------+\n",
            "|        station|year|month|total_entries|total_exits|days_in_month|avg_daily_entries|avg_daily_exits|\n",
            "+---------------+----+-----+-------------+-----------+-------------+-----------------+---------------+\n",
            "| BRIGHTON BEACH|2022|    2|       122892|     108924|           28|           4389.0|         3890.0|\n",
            "|          71 ST|2022|    3|        76960|      35307|           31|           2483.0|         1139.0|\n",
            "|  SEASIDE-B 105|2022|   11|         2696|       5346|           30|             90.0|          178.0|\n",
            "|           8 AV|2022|    4|       368291|     453052|           30|          12276.0|        15102.0|\n",
            "|42 ST - TIMES S|2022|    2|       110015|     253233|           28|           3929.0|         9044.0|\n",
            "|    23 ST-5 AVE|2022|    3|       196605|     186229|           31|           6342.0|         6007.0|\n",
            "|  8 ST-BROADWAY|2022|    9|       134890|     247843|           30|           4496.0|         8261.0|\n",
            "|         121 ST|2022|    7|        34173|      16801|           31|           1102.0|          542.0|\n",
            "|  VAN WYCK BLVD|2022|   10|        66489|      36645|           31|           2145.0|         1182.0|\n",
            "|       NEWARK C|2022|    4|        56897|      20707|           30|           1897.0|          690.0|\n",
            "|      ELDER AVE|2022|   12|        83906|     155570|           30|           2797.0|         5186.0|\n",
            "|       NEWARK C|2022|    8|        62517|      24891|           31|           2017.0|          803.0|\n",
            "|     PATH WTC 2|2022|    4|        45257|     162068|           30|           1509.0|         5402.0|\n",
            "|137 ST-CITY COL|2022|   11|       153758|     255076|           30|           5125.0|         8503.0|\n",
            "| 59 ST-COLUMBUS|2022|    5|       765662|    1066105|           31|          24699.0|        34390.0|\n",
            "|      DEKALB AV|2022|   12|       274683|     314573|           30|           9156.0|        10486.0|\n",
            "|       AQUEDUCT|2022|    2|        13676|       2387|           28|            488.0|           85.0|\n",
            "|     NEWKIRK AV|2022|    7|       173034|     219956|           31|           5582.0|         7095.0|\n",
            "|     174-175 ST|2022|    9|        56228|      51651|           30|           1874.0|         1722.0|\n",
            "|       BURKE AV|2022|    2|        36823|      25644|           28|           1315.0|          916.0|\n",
            "+---------------+----+-----+-------------+-----------+-------------+-----------------+---------------+\n",
            "only showing top 20 rows\n",
            "\n"
          ]
        }
      ],
      "source": [
        "daily_stats.show()"
      ]
    },
    {
      "cell_type": "markdown",
      "source": [
        "Analyse hourly trends"
      ],
      "metadata": {
        "id": "tStfQqZlwLRk"
      }
    },
    {
      "cell_type": "code",
      "execution_count": 17,
      "metadata": {
        "id": "Q6E4deiuOesp"
      },
      "outputs": [],
      "source": [
        "\n",
        "hourly_stats = turnstile_with_stations.groupBy(\"station\", hour(to_timestamp(\"time\", \"yyyy-MM-dd HH:mm:ss\")).alias(\"hour\")).agg(\n",
        "    avg(\"ActualEntries\").alias(\"total_entries\"),\n",
        "    avg(\"ActualExits\").alias(\"total_exits\")\n",
        ")\n"
      ]
    },
    {
      "cell_type": "code",
      "execution_count": 18,
      "metadata": {
        "id": "FLskpZzqYKyO",
        "colab": {
          "base_uri": "https://localhost:8080/"
        },
        "outputId": "12fa87aa-d266-4aab-cebc-79b83ba49b94"
      },
      "outputs": [
        {
          "output_type": "stream",
          "name": "stdout",
          "text": [
            "+-------+----+-------------------+-------------------+\n",
            "|station|hour|      total_entries|        total_exits|\n",
            "+-------+----+-------------------+-------------------+\n",
            "|  1 AVE|   8|  16.44305381727159| 126.62077596996245|\n",
            "|  1 AVE|   9| 34.733333333333334| 248.46666666666667|\n",
            "|  1 AVE|   7|  6.186645213193886| 52.905872888173775|\n",
            "|  1 AVE|  18|  119.0909090909091| 187.27272727272728|\n",
            "|  1 AVE|  20| 130.30918281381634| 236.05602358887953|\n",
            "|  1 AVE|  19| 147.79133226324237|  219.3876404494382|\n",
            "|  1 AVE|  15|  87.74660271782574| 171.71143085531574|\n",
            "|  1 AVE|  23|   61.1634460547504| 139.89774557165862|\n",
            "|  1 AVE|  11|  50.19632881085395|  288.0925778132482|\n",
            "|  1 AVE|  13|               45.2|               95.8|\n",
            "|  1 AVE|  14|  54.18181818181818|  131.0909090909091|\n",
            "|  1 AVE|   4|  9.297331109257716| 31.423269391159298|\n",
            "|  1 AVE|   3| 18.707630522088355| 40.443373493975905|\n",
            "|  1 AVE|  16| 106.25715488215488| 191.67171717171718|\n",
            "|  1 AVE|   5|0.05714285714285714|0.24285714285714285|\n",
            "|  1 AVE|   0|  56.75684787189212|  132.3164770332912|\n",
            "|  1 AVE|  12|  53.19206416209371| 249.46813001266358|\n",
            "|  1 AVE|  10|              123.0|              525.0|\n",
            "|  1 AVE|  22|               12.0|               80.0|\n",
            "| 103 ST|  23|                6.0|             29.875|\n",
            "| 103 ST|  21|  163.8727628635347| 254.16554809843402|\n",
            "| 103 ST|   9| 153.20484949832775|  179.7009476031215|\n",
            "| 103 ST|  16|  203.6271813855103| 209.78476996298255|\n",
            "| 103 ST|  11| 174.66666666666666| 103.33333333333333|\n",
            "| 103 ST|  12| 185.10863804981452| 198.42872284048755|\n",
            "| 103 ST|  20| 193.50210970464136| 262.74103375527426|\n",
            "| 103 ST|   0|  56.40308019118428| 130.01486988847583|\n",
            "| 103 ST|   1| 43.448064605959345| 124.98579782790308|\n",
            "| 103 ST|   4| 6.7304025423728815| 29.729343220338983|\n",
            "| 103 ST|  13|  167.1561974200785| 177.80145821648907|\n",
            "+-------+----+-------------------+-------------------+\n",
            "only showing top 30 rows\n",
            "\n"
          ]
        }
      ],
      "source": [
        "hourly_stats = hourly_stats.orderBy(\"station\")\n",
        "hourly_stats.show(30)"
      ]
    },
    {
      "cell_type": "code",
      "execution_count": 19,
      "metadata": {
        "id": "O3I_hvWQYBg2"
      },
      "outputs": [],
      "source": [
        "hourly_stats.coalesce(1).write.csv(\"peak_hours\", header=True, mode='overwrite')\n"
      ]
    },
    {
      "cell_type": "markdown",
      "source": [
        "Create features for ML predictions"
      ],
      "metadata": {
        "id": "o5u5x-OCvYiN"
      }
    },
    {
      "cell_type": "code",
      "source": [
        "turnstile_with_stations = turnstile_with_stations.withColumn(\"Crowding\", col(\"ActualEntries\") + col(\"ActualExits\"))\n",
        "turnstile_with_stations = turnstile_with_stations.withColumn(\"Hour\", hour(col(\"Time\")))\n",
        "turnstile_with_stations = turnstile_with_stations.withColumn(\"DayOfWeek\", dayofweek(col(\"Date\")))\n",
        "turnstile_with_stations = turnstile_with_stations.withColumn(\n",
        "    \"DayHourInteraction\", col(\"DayOfWeek\") * col(\"Hour\")\n",
        ")\n",
        "turnstile_with_stations = turnstile_with_stations.withColumn(\"LaggedCrowding\", lag(\"Crowding\").over(window_spec).cast(\"integer\"))\n"
      ],
      "metadata": {
        "id": "d_vlvxB7BDNO"
      },
      "execution_count": 33,
      "outputs": []
    },
    {
      "cell_type": "code",
      "source": [
        "# Aggregate data to calculate average crowding per day-hour combination\n",
        "average_crowding = turnstile_with_stations.groupBy(\"DayOfWeek\", \"Hour\").agg({\"Crowding\": \"avg\"}).withColumnRenamed(\"avg(Crowding)\", \"AvgDayHourCrowding\")\n",
        "\n",
        "# Join the aggregated feature back to the original DataFrame\n",
        "turnstile_with_stations = turnstile_with_stations.join(average_crowding, on=[\"DayOfWeek\", \"Hour\"], how=\"left\")\n"
      ],
      "metadata": {
        "id": "3zufSar8tNjZ"
      },
      "execution_count": 34,
      "outputs": []
    },
    {
      "cell_type": "code",
      "source": [
        "turnstile_with_stations.show()"
      ],
      "metadata": {
        "colab": {
          "base_uri": "https://localhost:8080/"
        },
        "id": "wnSFHknHBTDV",
        "outputId": "bbd3bbcd-bfeb-4bf3-c18a-83e688ba4d21"
      },
      "execution_count": 22,
      "outputs": [
        {
          "output_type": "stream",
          "name": "stdout",
          "text": [
            "+---------+----+-----------+----+----------------------+---------+--------+----------+-------------------+-----------+-------+-----+-------------+-----------+---------+-------------+-----------+-----+----+--------+------------------+--------------+------------------+\n",
            "|DayOfWeek|Hour|ControlArea|Unit|SubunitChannelPosition|Line Name|Division|      Date|               Time|Description|Entries|Exits|      station|PrevEntries|PrevExits|ActualEntries|ActualExits|month|year|Crowding|DayHourInteraction|LaggedCrowding|AvgDayHourCrowding|\n",
            "+---------+----+-----------+----+----------------------+---------+--------+----------+-------------------+-----------+-------+-----+-------------+-----------+---------+-------------+-----------+-----+----+--------+------------------+--------------+------------------+\n",
            "|        2|  19|       A002|R051|              02-05-01|  NQR456W|     BMT|2022-01-03|2024-12-12 19:00:00|    REGULAR|      0| 1025|LEXINGTON AVE|          0|     1022|            0|          3|    1|2022|       3|                38|             2|326.52987782750694|\n",
            "|        1|   7|       A002|R051|              02-05-01|  NQR456W|     BMT|2022-01-02|2024-12-12 07:00:00|    REGULAR|      0| 1018|LEXINGTON AVE|          0|     1018|            0|          0|    1|2022|       0|                 7|             0|  21.8421729807005|\n",
            "|        2|   3|       A002|R051|              02-05-01|  NQR456W|     BMT|2022-01-03|2024-12-12 03:00:00|    REGULAR|      0| 1018|LEXINGTON AVE|          0|     1018|            0|          0|    1|2022|       0|                 6|             0|25.602846417889477|\n",
            "|        7|  15|       A002|R051|              02-05-01|  NQR456W|     BMT|2022-01-01|2024-12-12 15:00:00|    REGULAR|      0| 1018|LEXINGTON AVE|          0|     1018|            0|          0|    1|2022|       0|               105|             1|167.54091564894028|\n",
            "|        1|   3|       A002|R051|              02-05-01|  NQR456W|     BMT|2022-01-02|2024-12-12 03:00:00|    REGULAR|      0| 1018|LEXINGTON AVE|          0|     1018|            0|          0|    1|2022|       0|                 3|             0|44.541428920769484|\n",
            "|        7|  19|       A002|R051|              02-05-01|  NQR456W|     BMT|2022-01-01|2024-12-12 19:00:00|    REGULAR|      0| 1018|LEXINGTON AVE|          0|     1018|            0|          0|    1|2022|       0|               133|             0| 198.4223663082583|\n",
            "|        7|  23|       A002|R051|              02-05-01|  NQR456W|     BMT|2022-01-01|2024-12-12 23:00:00|    REGULAR|      0| 1018|LEXINGTON AVE|          0|     1018|            0|          0|    1|2022|       0|               161|             0|116.90235703790181|\n",
            "|        1|  11|       A002|R051|              02-05-01|  NQR456W|     BMT|2022-01-02|2024-12-12 11:00:00|    REGULAR|      0| 1018|LEXINGTON AVE|          0|     1018|            0|          0|    1|2022|       0|                11|             0|  85.8510716925351|\n",
            "|        7|   3|       A002|R051|              02-05-01|  NQR456W|     BMT|2022-01-01|2024-12-12 03:00:00|    REGULAR|      0| 1017|LEXINGTON AVE|       NULL|     NULL|            0|          0|    1|2022|       0|                21|          NULL| 52.56862382303359|\n",
            "|        2|  15|       A002|R051|              02-05-01|  NQR456W|     BMT|2022-01-03|2024-12-12 15:00:00|    REGULAR|      0| 1022|LEXINGTON AVE|          0|     1020|            0|          2|    1|2022|       2|                30|             2|186.82753582579457|\n",
            "|        3|   3|       A002|R051|              02-05-01|  NQR456W|     BMT|2022-01-04|2024-12-12 03:00:00|    REGULAR|      0| 1025|LEXINGTON AVE|          0|     1025|            0|          0|    1|2022|       0|                 9|             0|29.807466184270034|\n",
            "|        1|  19|       A002|R051|              02-05-01|  NQR456W|     BMT|2022-01-02|2024-12-12 19:00:00|    REGULAR|      0| 1018|LEXINGTON AVE|          0|     1018|            0|          0|    1|2022|       0|                19|             0|163.31886558801438|\n",
            "|        1|  23|       A002|R051|              02-05-01|  NQR456W|     BMT|2022-01-02|2024-12-12 23:00:00|    REGULAR|      0| 1018|LEXINGTON AVE|          0|     1018|            0|          0|    1|2022|       0|                23|             0| 87.98864462943506|\n",
            "|        7|  11|       A002|R051|              02-05-01|  NQR456W|     BMT|2022-01-01|2024-12-12 11:00:00|    REGULAR|      0| 1018|LEXINGTON AVE|          0|     1017|            0|          1|    1|2022|       1|                77|             0|108.33842027189043|\n",
            "|        3|  11|       A002|R051|              02-05-01|  NQR456W|     BMT|2022-01-04|2024-12-12 11:00:00|    REGULAR|      0| 1025|LEXINGTON AVE|          0|     1025|            0|          0|    1|2022|       0|                33|             0| 311.1811362518446|\n",
            "|        2|  11|       A002|R051|              02-05-01|  NQR456W|     BMT|2022-01-03|2024-12-12 11:00:00|    REGULAR|      0| 1020|LEXINGTON AVE|          0|     1018|            0|          2|    1|2022|       2|                22|             0| 277.3443298969072|\n",
            "|        2|  23|       A002|R051|              02-05-01|  NQR456W|     BMT|2022-01-03|2024-12-12 23:00:00|    REGULAR|      0| 1025|LEXINGTON AVE|          0|     1025|            0|          0|    1|2022|       0|                46|             3|125.69356619902655|\n",
            "|        1|  15|       A002|R051|              02-05-01|  NQR456W|     BMT|2022-01-02|2024-12-12 15:00:00|    REGULAR|      0| 1018|LEXINGTON AVE|          0|     1018|            0|          0|    1|2022|       0|                15|             0|145.14737525882018|\n",
            "|        7|   7|       A002|R051|              02-05-01|  NQR456W|     BMT|2022-01-01|2024-12-12 07:00:00|    REGULAR|      0| 1017|LEXINGTON AVE|          0|     1017|            0|          0|    1|2022|       0|                49|             0|28.217969576181567|\n",
            "|        3|   7|       A002|R051|              02-05-01|  NQR456W|     BMT|2022-01-04|2024-12-12 07:00:00|    REGULAR|      0| 1025|LEXINGTON AVE|          0|     1025|            0|          0|    1|2022|       0|                21|             0| 74.01187142335323|\n",
            "+---------+----+-----------+----+----------------------+---------+--------+----------+-------------------+-----------+-------+-----+-------------+-----------+---------+-------------+-----------+-----+----+--------+------------------+--------------+------------------+\n",
            "only showing top 20 rows\n",
            "\n"
          ]
        }
      ]
    },
    {
      "cell_type": "code",
      "source": [
        "turnstile_with_stations = turnstile_with_stations.dropna()\n",
        "turnstile_with_stations = turnstile_with_stations.filter(col(\"station\") == 'BRIGHTON BEACH')"
      ],
      "metadata": {
        "id": "PBU2V670DJ_c"
      },
      "execution_count": 35,
      "outputs": []
    },
    {
      "cell_type": "code",
      "source": [
        "\n",
        "# Categorize time into TimeCategory based on peak hours and weekends\n",
        "turnstile_with_stations = turnstile_with_stations.withColumn(\n",
        "    \"TimeCategory\",\n",
        "    when((col(\"DayOfWeek\") < 5) & (col(\"Hour\").between(7, 9)), \"Weekday_Morning_Peak\")\n",
        "    .when((col(\"DayOfWeek\") < 5) & (col(\"Hour\").between(17, 19)), \"Weekday_Evening_Peak\")\n",
        "    .when(col(\"DayOfWeek\") >= 5, \"Weekend\")\n",
        "    .otherwise(\"Off_Peak\")\n",
        ")\n"
      ],
      "metadata": {
        "id": "beBGyLKBw3hz"
      },
      "execution_count": 36,
      "outputs": []
    },
    {
      "cell_type": "code",
      "source": [
        "turnstile_with_stations.printSchema()"
      ],
      "metadata": {
        "colab": {
          "base_uri": "https://localhost:8080/"
        },
        "id": "tJLh51ok3E_i",
        "outputId": "0ef1dfaf-9197-4d5d-93d6-12bdbfb09ffe"
      },
      "execution_count": 25,
      "outputs": [
        {
          "output_type": "stream",
          "name": "stdout",
          "text": [
            "root\n",
            " |-- DayOfWeek: integer (nullable = true)\n",
            " |-- Hour: integer (nullable = true)\n",
            " |-- ControlArea: string (nullable = true)\n",
            " |-- Unit: string (nullable = true)\n",
            " |-- SubunitChannelPosition: string (nullable = true)\n",
            " |-- Line Name: string (nullable = true)\n",
            " |-- Division: string (nullable = true)\n",
            " |-- Date: date (nullable = true)\n",
            " |-- Time: timestamp (nullable = true)\n",
            " |-- Description: string (nullable = true)\n",
            " |-- Entries: integer (nullable = true)\n",
            " |-- Exits: string (nullable = true)\n",
            " |-- station: string (nullable = true)\n",
            " |-- PrevEntries: integer (nullable = true)\n",
            " |-- PrevExits: integer (nullable = true)\n",
            " |-- ActualEntries: integer (nullable = true)\n",
            " |-- ActualExits: integer (nullable = true)\n",
            " |-- month: integer (nullable = true)\n",
            " |-- year: integer (nullable = true)\n",
            " |-- Crowding: integer (nullable = true)\n",
            " |-- DayHourInteraction: integer (nullable = true)\n",
            " |-- LaggedCrowding: integer (nullable = true)\n",
            " |-- AvgDayHourCrowding: double (nullable = true)\n",
            " |-- TimeCategory: string (nullable = false)\n",
            "\n"
          ]
        }
      ]
    },
    {
      "cell_type": "markdown",
      "source": [
        "Fit a Random Forest Regression model"
      ],
      "metadata": {
        "id": "lMqc8_lTwPXS"
      }
    },
    {
      "cell_type": "code",
      "source": [
        "from pyspark.ml.feature import StringIndexer, OneHotEncoder, VectorAssembler\n",
        "from pyspark.ml.regression import RandomForestRegressor\n",
        "from pyspark.ml import Pipeline\n",
        "from pyspark.sql.functions import col\n",
        "from pyspark.ml.evaluation import RegressionEvaluator\n",
        "\n",
        "# String Indexers for categorical variables\n",
        "\n",
        "# division_indexer = StringIndexer(inputCol=\"Division\", outputCol=\"DivisionIndex\", handleInvalid=\"skip\")\n",
        "# #line_name_indexer = StringIndexer(inputCol=\"Line Name\", outputCol=\"LineNameIndex\", handleInvalid=\"skip\")\n",
        "\n",
        "# # One-Hot Encoders\n",
        "# division_encoder = OneHotEncoder(inputCol=\"DivisionIndex\", outputCol=\"DivisionVec\")\n",
        "# line_name_encoder = OneHotEncoder(inputCol=\"LineNameIndex\", outputCol=\"LineNameVec\")\n",
        "time_category_indexer = StringIndexer(inputCol=\"TimeCategory\", outputCol=\"TimeCategoryIndex\", handleInvalid=\"skip\")\n",
        "time_category_encoder = OneHotEncoder(inputCol=\"TimeCategoryIndex\", outputCol=\"TimeCategoryVec\")\n",
        "\n",
        "# Feature Assembler\n",
        "assembler = VectorAssembler(\n",
        "    inputCols=[\"Hour\", \"month\",\"DayOfWeek\",\"DayHourInteraction\",\"AvgDayHourCrowding\",\"PrevEntries\",\"PrevExits\",\"LaggedCrowding\",\"TimeCategoryVec\"],\n",
        "    outputCol=\"features\"\n",
        ")\n",
        "\n",
        "# Random Forest Regressor\n",
        "rf = RandomForestRegressor(featuresCol=\"features\", labelCol=\"Crowding\", seed=42)\n",
        "\n",
        "# Pipeline\n",
        "pipeline = Pipeline(stages=[time_category_indexer,\n",
        "    time_category_encoder,\n",
        "    assembler, rf\n",
        "])\n",
        "\n",
        "# Split data into training and test sets\n",
        "turnstile_with_stations = turnstile_with_stations.orderBy(\"Date\")\n",
        "train_data, test_data = turnstile_with_stations.randomSplit([0.8, 0.2], seed=42)\n",
        "\n",
        "# Train the model\n",
        "model = pipeline.fit(train_data)\n",
        "\n",
        "# Make predictions\n",
        "predictions = model.transform(test_data)\n",
        "\n",
        "# Evaluate model\n",
        "evaluator = RegressionEvaluator(labelCol=\"Crowding\", predictionCol=\"prediction\", metricName=\"r2\")\n",
        "r2_score = evaluator.evaluate(predictions)\n",
        "print(f\"R2 Score: {r2_score}\")\n"
      ],
      "metadata": {
        "colab": {
          "base_uri": "https://localhost:8080/"
        },
        "id": "pH2HxaxLCVPr",
        "outputId": "d7b64bb8-3ca3-401e-8c88-85741606b9a1"
      },
      "execution_count": 40,
      "outputs": [
        {
          "output_type": "stream",
          "name": "stdout",
          "text": [
            "R2 Score: 0.8606610279461713\n"
          ]
        }
      ]
    },
    {
      "cell_type": "code",
      "source": [
        "# Access the trained Random Forest model\n",
        "# Retrieve the categories from the OneHotEncoder stage\n",
        "time_category_indexer = model.stages[0]\n",
        "time_category_encoder = model.stages[1]\n",
        "\n",
        "# Get the categories\n",
        "time_category_labels = time_category_indexer.labelsArray[0]  # List of categories in their indexed order\n",
        "time_category_columns = [f\"TimeCategoryVec_{label}\" for label in time_category_labels]\n",
        "\n",
        "rf_model = model.stages[-1]  # Last stage in the pipeline is the RandomForestRegressor\n",
        "\n",
        "# Get feature importances\n",
        "importances = rf_model.featureImportances\n",
        "\n",
        "# Get feature names from VectorAssembler\n",
        "feature_list = assembler.getInputCols()+time_category_columns\n",
        "\n",
        "# Create a mapping of feature names to importance scores\n",
        "feature_importance = {feature_list[i]: importance for i, importance in enumerate(importances)}\n",
        "\n",
        "# Display feature importances\n",
        "print(\"Feature Importances:\")\n",
        "for feature, importance in feature_importance.items():\n",
        "    print(f\"{feature}: {importance}\")\n"
      ],
      "metadata": {
        "colab": {
          "base_uri": "https://localhost:8080/"
        },
        "id": "WmSt5AEM5iwp",
        "outputId": "38c086b4-4ed5-464d-d7ec-bd71c2c56d27"
      },
      "execution_count": 41,
      "outputs": [
        {
          "output_type": "stream",
          "name": "stdout",
          "text": [
            "Feature Importances:\n",
            "Hour: 0.11541054915697795\n",
            "month: 0.0010878286410514932\n",
            "DayOfWeek: 0.0037324082350584033\n",
            "DayHourInteraction: 0.0683259052031949\n",
            "AvgDayHourCrowding: 0.27444801762774795\n",
            "PrevEntries: 0.12642636664424536\n",
            "PrevExits: 0.1382175618824831\n",
            "LaggedCrowding: 0.2721820124347842\n",
            "TimeCategoryVec: 0.00011244119800085242\n",
            "TimeCategoryVec_Off_Peak: 0.0\n",
            "TimeCategoryVec_Weekend: 5.6908976456144455e-05\n"
          ]
        }
      ]
    },
    {
      "cell_type": "code",
      "source": [
        "import matplotlib.pyplot as plt\n",
        "\n",
        "# Generate feature importance data\n",
        "feature_importance = {feature_list[i]: importance for i, importance in enumerate(importances)}\n",
        "sorted_importance = sorted(feature_importance.items(), key=lambda x: x[1], reverse=True)[:6]\n",
        "\n",
        "# Separate features and their importances for plotting\n",
        "features, importances = zip(*sorted_importance)\n",
        "\n",
        "# Plot the feature importances\n",
        "plt.figure(figsize=(10, 6))\n",
        "plt.barh(features, importances, color='skyblue')\n",
        "plt.xlabel('Importance Score')\n",
        "plt.ylabel('Feature')\n",
        "plt.title('Feature Importances')\n",
        "plt.gca().invert_yaxis()  # Invert y-axis to display most important features on top\n",
        "plt.show()\n"
      ],
      "metadata": {
        "colab": {
          "base_uri": "https://localhost:8080/",
          "height": 564
        },
        "id": "XEZ4xDJToaEM",
        "outputId": "b1ad8632-9d77-4267-b650-ab958d0e9bee"
      },
      "execution_count": 43,
      "outputs": [
        {
          "output_type": "display_data",
          "data": {
            "text/plain": [
              "<Figure size 1000x600 with 1 Axes>"
            ],
            "image/png": "[encoded data removed]"
          },
          "metadata": {}
        }
      ]
    },
    {
      "cell_type": "code",
      "source": [
        "import matplotlib.pyplot as plt\n",
        "import numpy as np\n",
        "from pyspark.sql.functions import col\n",
        "\n",
        "# Ensure numeric data in PySpark DataFrame\n",
        "predictions = predictions.withColumn(\"Crowding\", col(\"Crowding\").cast(\"float\"))\n",
        "predictions = predictions.withColumn(\"prediction\", col(\"prediction\").cast(\"float\"))\n",
        "\n",
        "# Convert to Python lists and then to NumPy arrays\n",
        "y_test = np.array([row[\"Crowding\"] for row in predictions.select(\"Crowding\").collect()])\n",
        "y_pred = np.array([row[\"prediction\"] for row in predictions.select(\"prediction\").collect()])\n",
        "\n",
        "# Plot Predicted vs. Actuala\n",
        "plt.figure(figsize=(8, 6))\n",
        "plt.scatter(y_test, y_pred, s=10 ,alpha=0.6, color='blue', label=\"Data Points\")\n",
        "plt.plot([y_test.min(), y_test.max()], [y_test.min(), y_test.max()], 'k--', color='red', lw=2, label=\"Perfect Prediction\")\n",
        "plt.title('Actual Crowd vs. Predicted Crowd')\n",
        "plt.xlabel('Actual Crowd')\n",
        "plt.ylabel('Predicted Crowd')\n",
        "plt.legend()\n",
        "plt.grid(True)\n",
        "plt.show()"
      ],
      "metadata": {
        "colab": {
          "base_uri": "https://localhost:8080/",
          "height": 619
        },
        "id": "DVwaZgtKVHBf",
        "outputId": "3322eba6-2429-4788-c8de-5bbec5a8f6ff"
      },
      "execution_count": 44,
      "outputs": [
        {
          "output_type": "stream",
          "name": "stderr",
          "text": [
            "<ipython-input-44-4f555cf1c1ba>:16: UserWarning: color is redundantly defined by the 'color' keyword argument and the fmt string \"k--\" (-> color='k'). The keyword argument will take precedence.\n",
            "  plt.plot([y_test.min(), y_test.max()], [y_test.min(), y_test.max()], 'k--', color='red', lw=2, label=\"Perfect Prediction\")\n"
          ]
        },
        {
          "output_type": "display_data",
          "data": {
            "text/plain": [
              "<Figure size 800x600 with 1 Axes>"
            ],
            "image/png": "[encoded data removed]"
          },
          "metadata": {}
        }
      ]
    }
  ],
  "metadata": {
    "colab": {
      "provenance": []
    },
    "kernelspec": {
      "display_name": "Python 3",
      "name": "python3"
    },
    "language_info": {
      "name": "python"
    }
  },
  "nbformat": 4,
  "nbformat_minor": 0
}